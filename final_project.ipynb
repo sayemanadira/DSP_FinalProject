{
 "cells": [
  {
   "cell_type": "code",
   "execution_count": 1,
   "id": "3e2e2ee8",
   "metadata": {},
   "outputs": [],
   "source": [
    "%matplotlib inline"
   ]
  },
  {
   "cell_type": "code",
   "execution_count": 2,
   "id": "8d947184",
   "metadata": {},
   "outputs": [],
   "source": [
    "import numpy as np\n",
    "import matplotlib.pyplot as plt\n",
    "import librosa as lb\n",
    "import IPython.display as ipd\n",
    "from scipy.signal import medfilt\n",
    "import math"
   ]
  },
  {
   "cell_type": "markdown",
   "id": "c36c23f8",
   "metadata": {},
   "source": [
    "### Implement TSM with dynamically changing time stretch factor in an offline setting \n",
    "In hw10 we implemented the following function\n",
    "y = tsm_hybrid(x, alpha=1.0, sr=22050)\n",
    "Where x is the input audio, y is the output audio, alpha is the global TSM factor, and sr is the sample rate\n",
    "* You will implement the following function\n",
    "y = tsm_hybrid_variable(x, sr, t_alpha, alpha)\n",
    "x, sr, and y are same as above\n",
    "alpha is a 1-d array specifying the desired TSM factors at different points in time\n",
    "t_alpha is a 1-d array of the same size as alpha that specifies the time (in sec, in the timeline of the original unmodified audio recording) when the TSM factor should be changed/set; the first value of this array should always be zero (in order to set the initial TSM factor)\n",
    "* You can think of t_alpha and alpha as a way of simulating a  person controlling the slider where they make a discrete number of changes over the length of the recording\n",
    "E.g. if t_alpha = [0,2.5, 7.5] and alpha = [1.0, 2.0, 0.5], then the first 2.5 sec of the original audio should be played with no TSM, the next 7.5 - 2.5 = 5 sec of the original audio should be played with time stretch factor 2x, and the rest of the recording should be played with time stretch factor 0.5.\n",
    "\n",
    "Use a simple example like this to verify that your code is working properly – you should be able to double check that the total duration is what is expected, and also listen to confirm that it is doing the time stretch properly\n"
   ]
  },
  {
   "cell_type": "code",
   "execution_count": null,
   "id": "845e34ff",
   "metadata": {},
   "outputs": [],
   "source": [
    "def tsm_hybrid_variable(x, sr, t_alpha, alpha):\n",
    "    \"\"\"\n",
    "    x: Original time-domain signal\n",
    "    sr: sampling rate\n",
    "    t_alpha: 1-d array that specifies time in sec, in the timeline of the original recording\n",
    "    alpha: 1-d array of stretch factors\n",
    "    \"\"\""
   ]
  },
  {
   "cell_type": "code",
   "execution_count": null,
   "id": "8d094dc5",
   "metadata": {},
   "outputs": [],
   "source": []
  }
 ],
 "metadata": {
  "kernelspec": {
   "display_name": "E207_Spr25",
   "language": "python",
   "name": "python3"
  },
  "language_info": {
   "codemirror_mode": {
    "name": "ipython",
    "version": 3
   },
   "file_extension": ".py",
   "mimetype": "text/x-python",
   "name": "python",
   "nbconvert_exporter": "python",
   "pygments_lexer": "ipython3",
   "version": "3.12.3"
  }
 },
 "nbformat": 4,
 "nbformat_minor": 5
}
